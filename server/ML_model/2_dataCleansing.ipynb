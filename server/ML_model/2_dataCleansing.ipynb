{
 "cells": [
  {
   "cell_type": "code",
   "execution_count": 1,
   "metadata": {},
   "outputs": [],
   "source": [
    "import pandas as pd\n",
    "import datetime\n",
    "from datetime import datetime"
   ]
  },
  {
   "cell_type": "code",
   "execution_count": null,
   "metadata": {},
   "outputs": [],
   "source": [
    "# 파일불러오기\n",
    "tourList = pd.read_excel('티맵관광지목록_정리 완료.xlsx') \n",
    "tourList = tourList.iloc[:,[0,1,5]]\n",
    "# df = pd.DataFrame(colums = ['','',''])"
   ]
  },
  {
   "cell_type": "code",
   "execution_count": 2,
   "metadata": {},
   "outputs": [],
   "source": [
    "import datetime as dt\n",
    "\n",
    "def leftjoin():\n",
    "        date = datetime(2021,1,1)\n",
    "        df = pd.DataFrame(columns = ['num','관광지명','검색건수','area_code','date','avgTemp','highTemp','lowTemp','weather','rainProb'])\n",
    "\n",
    "        while True:       \n",
    "                date_str = str(date)[:10]\n",
    "                date4tmap = date_str.replace(\"-\",\"\")\n",
    "                tmapSearch = pd.read_excel('./관광데이터/'+date4tmap+'.xlsx')        \n",
    "                        # tmapSearch = pd.read_excel(date+'.xlsx')        \n",
    "                join1 = pd.merge(left = tourList, right=tmapSearch, how = \"left\", on='관광지명')\n",
    "                join1 = join1[['num','관광지명','검색건수','area_code']]\n",
    "                join1 = join1.fillna(0)\n",
    "                join1['datetime'] = date\n",
    "                join1['date'] = date_str # 날짜형식 2021-10-10\n",
    "                for i in range(0,12):\n",
    "                        weatherForecast = pd.read_excel('./날씨 데이터/weatherAreaCode'+str(i)+'.xlsx')\n",
    "                        join2 = pd.merge(left = join1, right=weatherForecast, how = \"inner\", on=['area_code','date'])\n",
    "                        df = pd.concat([df,join2], ignore_index=True)\n",
    "                date = date+dt.timedelta(days=1)\n",
    "                if date==datetime(2022,3,1):\n",
    "                        break\n",
    "        df.to_excel('dataset2.xlsx')          \n",
    "leftjoin()"
   ]
  },
  {
   "cell_type": "code",
   "execution_count": null,
   "metadata": {},
   "outputs": [
    {
     "name": "stdout",
     "output_type": "stream",
     "text": [
      "20210101\n"
     ]
    }
   ],
   "source": [
    "\n",
    "# from dateutil.parser import parse\n",
    "\n",
    "# date = dt.datetime(2021,1,1)       \n",
    "# date_str = str(date)[:10]\n",
    "# print(date_str.replace(\"-\",\"\"))\n"
   ]
  },
  {
   "cell_type": "code",
   "execution_count": 6,
   "metadata": {},
   "outputs": [],
   "source": [
    "df = pd.read_excel('dataset2.xlsx')\n",
    "df = df[['관광지명','검색건수','area_code','date','avgTemp','highTemp','lowTemp','weather','rainProb','datetime']]\n",
    "df = df.dropna()\n",
    "df['month'] = df['datetime'].dt.month_name()\n",
    "# 월요일: 0, 일요일: 6\n",
    "df['weekday'] = df['datetime'].dt.weekday\n",
    "df.to_excel('dataset_clean.xlsx', index=False)    "
   ]
  }
 ],
 "metadata": {
  "interpreter": {
   "hash": "93efdfc58be7d5cae08a57f11b31191f1b2455ab614f395b69738ec3b2997674"
  },
  "kernelspec": {
   "display_name": "Python 3.10.3 64-bit",
   "language": "python",
   "name": "python3"
  },
  "language_info": {
   "codemirror_mode": {
    "name": "ipython",
    "version": 3
   },
   "file_extension": ".py",
   "mimetype": "text/x-python",
   "name": "python",
   "nbconvert_exporter": "python",
   "pygments_lexer": "ipython3",
   "version": "3.8.0"
  },
  "orig_nbformat": 4
 },
 "nbformat": 4,
 "nbformat_minor": 2
}
