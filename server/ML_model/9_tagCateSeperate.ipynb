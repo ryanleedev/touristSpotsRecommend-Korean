{
 "cells": [
  {
   "cell_type": "code",
   "execution_count": 31,
   "metadata": {},
   "outputs": [],
   "source": [
    "import pandas as pd\n",
    "df = pd.read_csv('tagCategory.csv')"
   ]
  },
  {
   "cell_type": "code",
   "execution_count": 32,
   "metadata": {},
   "outputs": [],
   "source": [
    "df1 = list(df.T)\n",
    "# df.iloc[0]\n",
    "# df1 = df.iloc[0].T.drop_duplicates()"
   ]
  },
  {
   "cell_type": "code",
   "execution_count": 34,
   "metadata": {},
   "outputs": [
    {
     "data": {
      "text/plain": [
       "array(['4.3', 'ATV', 'waterleisure', '가을', '가족', '걷기', '걷기/등산', '겨울',\n",
       "       '경관/포토', '계곡', '공연', '공연장', '공원', '곶자왈', '권총', '금오름', '꽃', '남자',\n",
       "       '노년', '녹차', '녹차밭', '단풍', '대극장', '도보', '도보여행', '동굴', '동물', '동백',\n",
       "       '동백나무', '둘레길', '드라이브', '등대', '등산', '라이플 사격', '라자냐', '레이싱', '레저/체험',\n",
       "       '마을관광', '마을산책', '맑음', '매화', '문화관광', '문화유적지', '물놀이', '뮤지컬', '미디어아트',\n",
       "       '미술', '미술/박물관', '미술관', '박물관', '밤', '벚꽃', '봄', '봄꽃', '부모', '비.눈',\n",
       "       '사계절', '산', '삼나무길', '서바이벌', '섬속의섬', '섬여행', '세계자연유산', '쇼핑', '수국',\n",
       "       '수목원', '수상레저', '수상레저해수욕장', '수월봉', '숲', '숲길', '승마', '승마장', '실내',\n",
       "       '실내관광지', '실내놀이터', '싱계물 공원', '아름다운섬나라', '아이', '아트', '안개/흐림', '애월',\n",
       "       '액티비티', '야영장', '어린이', '어린이동물농장', '어트랙션', '억새', '언택트', '여름', '여자',\n",
       "       '역사유적', '연극', '예술', '오름', '올레', '우수관광사업체', '우정스냅', '웰니스', '유네스코',\n",
       "       '유람선', '유채꽃', '음식', '의귀리', '일몰', '일출', '자연', '자연경관', '저지리',\n",
       "       '저지예술인마을', '전시와 행사', '절벽', '제주4.3', '제주동백수목원', '제주시', '중/장년',\n",
       "       '지질트레일', '차귀도', '차귀도유람선', '청년', '청초밭', '체험', '체험관광', '체험전시', '축제',\n",
       "       '치유', '치킨', '친구', '카트', '캠핑', '캠핑장', '커플', '커플스냅', '커피', '코스모스',\n",
       "       '쿠키', '쿠킹체험', '크림파스타', '클레이', '테', '테마공원', '테마파크', '템플스테이', '파스타',\n",
       "       '포구', '포토스팟', '폭포', '한라산', '함덕', '해바라기', '해변', '해수욕장', '해안도로',\n",
       "       '행사', '혼자', '휴식', '휴식/치유', '휴식/힐링', '휴양림', '흐림', '힐링'],\n",
       "      dtype='<U32')"
      ]
     },
     "execution_count": 34,
     "metadata": {},
     "output_type": "execute_result"
    }
   ],
   "source": [
    "import numpy as np\n",
    "np.unique(df1)"
   ]
  },
  {
   "cell_type": "code",
   "execution_count": null,
   "metadata": {},
   "outputs": [],
   "source": []
  }
 ],
 "metadata": {
  "interpreter": {
   "hash": "6406aea2195e2d2993a92b7c846069edfafe96e407acc4a3e9fe18f96a09464c"
  },
  "kernelspec": {
   "display_name": "Python 3.8.0 64-bit",
   "language": "python",
   "name": "python3"
  },
  "language_info": {
   "codemirror_mode": {
    "name": "ipython",
    "version": 3
   },
   "file_extension": ".py",
   "mimetype": "text/x-python",
   "name": "python",
   "nbconvert_exporter": "python",
   "pygments_lexer": "ipython3",
   "version": "3.8.0"
  },
  "orig_nbformat": 4
 },
 "nbformat": 4,
 "nbformat_minor": 2
}
