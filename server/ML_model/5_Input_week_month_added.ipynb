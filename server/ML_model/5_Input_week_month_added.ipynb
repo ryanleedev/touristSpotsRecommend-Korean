{
 "cells": [
  {
   "cell_type": "code",
   "execution_count": null,
   "metadata": {},
   "outputs": [],
   "source": [
    "# ! pip install tensorflow\n",
    "# ! pip install xgboost\n",
    "# ! pip install lightgbm\n"
   ]
  },
  {
   "cell_type": "code",
   "execution_count": 1,
   "metadata": {},
   "outputs": [],
   "source": [
    "import pandas as pd\n",
    "import numpy as np\n",
    "from sklearn.model_selection import train_test_split\n",
    "from sklearn.model_selection import cross_validate"
   ]
  },
  {
   "cell_type": "code",
   "execution_count": 2,
   "metadata": {},
   "outputs": [
    {
     "name": "stdout",
     "output_type": "stream",
     "text": [
      "<class 'pandas.core.frame.DataFrame'>\n",
      "RangeIndex: 205381 entries, 0 to 205380\n",
      "Data columns (total 12 columns):\n",
      " #   Column     Non-Null Count   Dtype         \n",
      "---  ------     --------------   -----         \n",
      " 0   관광지명       205381 non-null  object        \n",
      " 1   검색건수       205381 non-null  int64         \n",
      " 2   area_code  205381 non-null  int64         \n",
      " 3   date       205381 non-null  object        \n",
      " 4   avgTemp    205381 non-null  float64       \n",
      " 5   highTemp   205381 non-null  float64       \n",
      " 6   lowTemp    205381 non-null  float64       \n",
      " 7   weather    205381 non-null  int64         \n",
      " 8   rainProb   205381 non-null  int64         \n",
      " 9   datetime   205381 non-null  datetime64[ns]\n",
      " 10  month      205381 non-null  object        \n",
      " 11  weekday    205381 non-null  int64         \n",
      "dtypes: datetime64[ns](1), float64(3), int64(5), object(3)\n",
      "memory usage: 18.8+ MB\n"
     ]
    }
   ],
   "source": [
    "tourlist=pd.read_excel('dataset_clean.xlsx')\n",
    "tourlist.info()"
   ]
  },
  {
   "cell_type": "code",
   "execution_count": 3,
   "metadata": {},
   "outputs": [],
   "source": [
    "# 정규화\n",
    "from sklearn.preprocessing import MinMaxScaler\n",
    "tourlist4sc = tourlist[['avgTemp','highTemp','lowTemp','rainProb']]\n",
    "scaler = MinMaxScaler()\n",
    "scaler.fit(tourlist4sc)\n",
    "tourlist_sc = scaler.transform(tourlist4sc)\n",
    "tourlist_sc = pd.DataFrame(tourlist_sc, columns=['avgTemp','highTemp','lowTemp','rainProb'])"
   ]
  },
  {
   "cell_type": "code",
   "execution_count": 4,
   "metadata": {},
   "outputs": [],
   "source": [
    "#범주형 데이터 원핫인코딩\n",
    "from sklearn.preprocessing import LabelEncoder\n",
    "tourlist_oh = pd.get_dummies(tourlist['관광지명'])\n",
    "weather_oh = pd.get_dummies(tourlist['weather'])\n",
    "# 에러\n",
    "# month_oh = pd.get_dummies(tourlist['month'])\n",
    "# weekday_oh = pd.get_dummies(tourlist['weekday'])"
   ]
  },
  {
   "cell_type": "code",
   "execution_count": 5,
   "metadata": {},
   "outputs": [],
   "source": [
    "# 관광지명, 날씨, 평균온도, 최고온도, 최저온도, 강수확률\n",
    "train = pd.concat([tourlist_oh, weather_oh, tourlist_sc], axis=1)\n",
    "target = tourlist['검색건수']\n",
    "train_input,test_input,train_target,test_target = train_test_split(\n",
    "    train,target, test_size = 0.3)"
   ]
  },
  {
   "cell_type": "code",
   "execution_count": 11,
   "metadata": {},
   "outputs": [],
   "source": [
    "from sklearn.ensemble import RandomForestRegressor\n",
    "model = RandomForestRegressor(n_jobs=-1)\n",
    "scores = cross_validate(model, train_input, train_target, return_train_score=True, n_jobs=-1)\n",
    "print(np.mean(scores['train_score']),np.mean(scores['test_score']))"
   ]
  },
  {
   "cell_type": "code",
   "execution_count": null,
   "metadata": {},
   "outputs": [],
   "source": [
    "from lightgbm import LGBMRegressor\n",
    "model = LGBMRegressor(tree_method = 'hist')\n",
    "scores = cross_validate(model, train_input, train_target, return_train_score=True, n_jobs=-1)\n",
    "print(np.mean(scores['train_score']),np.mean(scores['test_score']))"
   ]
  },
  {
   "cell_type": "code",
   "execution_count": 7,
   "metadata": {},
   "outputs": [
    {
     "name": "stdout",
     "output_type": "stream",
     "text": [
      "nan nan\n"
     ]
    },
    {
     "name": "stderr",
     "output_type": "stream",
     "text": [
      "C:\\Users\\human\\AppData\\Local\\Programs\\Python\\Python310\\lib\\site-packages\\sklearn\\model_selection\\_validation.py:372: FitFailedWarning: \n",
      "5 fits failed out of a total of 5.\n",
      "The score on these train-test partitions for these parameters will be set to nan.\n",
      "If these failures are not expected, you can try to debug them by setting error_score='raise'.\n",
      "\n",
      "Below are more details about the failures:\n",
      "--------------------------------------------------------------------------------\n",
      "5 fits failed with the following error:\n",
      "Traceback (most recent call last):\n",
      "  File \"C:\\Users\\human\\AppData\\Local\\Programs\\Python\\Python310\\lib\\site-packages\\sklearn\\model_selection\\_validation.py\", line 680, in _fit_and_score\n",
      "    estimator.fit(X_train, y_train, **fit_params)\n",
      "  File \"C:\\Users\\human\\AppData\\Local\\Programs\\Python\\Python310\\lib\\site-packages\\lightgbm\\sklearn.py\", line 895, in fit\n",
      "    super().fit(X, y, sample_weight=sample_weight, init_score=init_score,\n",
      "  File \"C:\\Users\\human\\AppData\\Local\\Programs\\Python\\Python310\\lib\\site-packages\\lightgbm\\sklearn.py\", line 748, in fit\n",
      "    self._Booster = train(\n",
      "  File \"C:\\Users\\human\\AppData\\Local\\Programs\\Python\\Python310\\lib\\site-packages\\lightgbm\\engine.py\", line 271, in train\n",
      "    booster = Booster(params=params, train_set=train_set)\n",
      "  File \"C:\\Users\\human\\AppData\\Local\\Programs\\Python\\Python310\\lib\\site-packages\\lightgbm\\basic.py\", line 2605, in __init__\n",
      "    train_set.construct()\n",
      "  File \"C:\\Users\\human\\AppData\\Local\\Programs\\Python\\Python310\\lib\\site-packages\\lightgbm\\basic.py\", line 1815, in construct\n",
      "    self._lazy_init(self.data, label=self.label,\n",
      "  File \"C:\\Users\\human\\AppData\\Local\\Programs\\Python\\Python310\\lib\\site-packages\\lightgbm\\basic.py\", line 1573, in _lazy_init\n",
      "    return self.set_feature_name(feature_name)\n",
      "  File \"C:\\Users\\human\\AppData\\Local\\Programs\\Python\\Python310\\lib\\site-packages\\lightgbm\\basic.py\", line 2142, in set_feature_name\n",
      "    _safe_call(_LIB.LGBM_DatasetSetFeatureNames(\n",
      "  File \"C:\\Users\\human\\AppData\\Local\\Programs\\Python\\Python310\\lib\\site-packages\\lightgbm\\basic.py\", line 125, in _safe_call\n",
      "    raise LightGBMError(_LIB.LGBM_GetLastError().decode('utf-8'))\n",
      "lightgbm.basic.LightGBMError: Do not support special JSON characters in feature name.\n",
      "\n",
      "  warnings.warn(some_fits_failed_message, FitFailedWarning)\n"
     ]
    }
   ],
   "source": [
    "from xgboost import LGBMRegressor\n",
    "model = LGBMRegressor(tree_method = 'hist')\n",
    "scores = cross_validate(model, train_input, train_target, return_train_score=True, n_jobs=-1)\n",
    "print(np.mean(scores['train_score']),np.mean(scores['test_score']))"
   ]
  },
  {
   "cell_type": "code",
   "execution_count": 10,
   "metadata": {},
   "outputs": [
    {
     "name": "stdout",
     "output_type": "stream",
     "text": [
      "0.90413940918306 0.8637943079157292\n"
     ]
    }
   ],
   "source": [
    "from xgboost import XGBRegressor\n",
    "model = XGBRegressor(tree_method = 'hist')\n",
    "scores = cross_validate(model, train_input, train_target, return_train_score=True, n_jobs=-1)\n",
    "print(np.mean(scores['train_score']),np.mean(scores['test_score']))"
   ]
  },
  {
   "cell_type": "code",
   "execution_count": 21,
   "metadata": {},
   "outputs": [
    {
     "name": "stderr",
     "output_type": "stream",
     "text": [
      "C:\\Users\\human\\AppData\\Local\\Programs\\Python\\Python310\\lib\\site-packages\\sklearn\\utils\\validation.py:1688: FutureWarning: Feature names only support names that are all strings. Got feature names with dtypes: ['int', 'str']. An error will be raised in 1.2.\n",
      "  warnings.warn(\n",
      "C:\\Users\\human\\AppData\\Local\\Programs\\Python\\Python310\\lib\\site-packages\\sklearn\\utils\\validation.py:1688: FutureWarning: Feature names only support names that are all strings. Got feature names with dtypes: ['int', 'str']. An error will be raised in 1.2.\n",
      "  warnings.warn(\n"
     ]
    }
   ],
   "source": [
    "# pca\n",
    "from sklearn.decomposition import PCA\n",
    "pca = PCA(n_components=0.95)\n",
    "pca.fit(train)\n",
    "train_pca = pca.transform(train)\n",
    "train_input,test_input,train_target,test_target = train_test_split(\n",
    "    train_pca,target, test_size = 0.3)"
   ]
  },
  {
   "cell_type": "code",
   "execution_count": 24,
   "metadata": {},
   "outputs": [
    {
     "name": "stdout",
     "output_type": "stream",
     "text": [
      "440\n"
     ]
    }
   ],
   "source": [
    "print(pca.n_components_)"
   ]
  },
  {
   "cell_type": "code",
   "execution_count": 19,
   "metadata": {},
   "outputs": [
    {
     "name": "stdout",
     "output_type": "stream",
     "text": [
      "0.900104672193659 0.8620108802947227\n"
     ]
    }
   ],
   "source": [
    "from xgboost import XGBRegressor\n",
    "model = XGBRegressor(tree_method = 'hist')\n",
    "scores = cross_validate(model, train_input, train_target, return_train_score=True, n_jobs=-1)\n",
    "print(np.mean(scores['train_score']),np.mean(scores['test_score']))"
   ]
  },
  {
   "cell_type": "code",
   "execution_count": 26,
   "metadata": {},
   "outputs": [
    {
     "name": "stdout",
     "output_type": "stream",
     "text": [
      "선택할 차원 수 : 440\n"
     ]
    }
   ],
   "source": [
    "cumsum = np.cumsum(pca.explained_variance_ratio_)\n",
    "d = np.argmax(cumsum >= 0.95) + 1\n",
    "print('선택할 차원 수 :', d)"
   ]
  },
  {
   "cell_type": "code",
   "execution_count": 25,
   "metadata": {},
   "outputs": [
    {
     "name": "stdout",
     "output_type": "stream",
     "text": [
      "[0.18507131 0.12311585 0.07833453 0.05983025 0.02457563 0.01143753\n",
      " 0.00213322 0.00213013 0.00211833 0.00197079 0.00172674 0.00124505\n",
      " 0.00111979 0.0010697  0.00106776 0.00106724 0.00106724 0.00106724\n",
      " 0.00106724 0.00106724 0.00106724 0.00106724 0.00106724 0.00106724\n",
      " 0.00106724 0.00106724 0.00106724 0.00106724 0.00106724 0.00106724\n",
      " 0.00106724 0.00106724 0.00106724 0.00106724 0.00106724 0.00106724\n",
      " 0.00106724 0.00106724 0.00106724 0.00106724 0.00106724 0.00106724\n",
      " 0.00106724 0.00106724 0.00106724 0.00106724 0.00106724 0.00106724\n",
      " 0.00106724 0.00106724 0.00106724 0.00106724 0.00106724 0.00106724\n",
      " 0.00106724 0.00106724 0.00106724 0.00106724 0.00106724 0.00106724\n",
      " 0.00106724 0.00106724 0.00106724 0.00106724 0.00106724 0.00106724\n",
      " 0.00106724 0.00106724 0.00106724 0.00106724 0.00106724 0.00106724\n",
      " 0.00106724 0.00106724 0.00106724 0.00106724 0.00106724 0.00106724\n",
      " 0.00106724 0.00106724 0.00106724 0.00106724 0.00106724 0.00106724\n",
      " 0.00106724 0.00106724 0.00106724 0.00106724 0.00106724 0.00106724\n",
      " 0.00106724 0.00106724 0.00106724 0.00106724 0.00106724 0.00106724\n",
      " 0.00106724 0.00106724 0.00106724 0.00106724 0.00106724 0.00106724\n",
      " 0.00106724 0.00106724 0.00106724 0.00106724 0.00106724 0.00106724\n",
      " 0.00106724 0.00106724 0.00106724 0.00106724 0.00106724 0.00106724\n",
      " 0.00106724 0.00106724 0.00106724 0.00106724 0.00106724 0.00106724\n",
      " 0.00106724 0.00106724 0.00106724 0.00106724 0.00106724 0.00106724\n",
      " 0.00106724 0.00106724 0.00106724 0.00106724 0.00106724 0.00106724\n",
      " 0.00106724 0.00106724 0.00106724 0.00106724 0.00106724 0.00106724\n",
      " 0.00106724 0.00106724 0.00106724 0.00106724 0.00106724 0.00106724\n",
      " 0.00106724 0.00106724 0.00106724 0.00106724 0.00106724 0.00106724\n",
      " 0.00106724 0.00106724 0.00106724 0.00106724 0.00106724 0.00106724\n",
      " 0.00106724 0.00106724 0.00106724 0.00106724 0.00106724 0.00106724\n",
      " 0.00106724 0.00106724 0.00106724 0.00106724 0.00106724 0.00106724\n",
      " 0.00106724 0.00106724 0.00106724 0.00106724 0.00106724 0.00106724\n",
      " 0.00106724 0.00106724 0.00106724 0.00106724 0.00106724 0.00106724\n",
      " 0.00106724 0.00106724 0.00106724 0.00106724 0.00106724 0.00106724\n",
      " 0.00106724 0.00106724 0.00106724 0.00106724 0.00106724 0.00106724\n",
      " 0.00106724 0.00106724 0.00106724 0.00106724 0.00106724 0.00106724\n",
      " 0.00106724 0.00106724 0.00106724 0.00106724 0.00106724 0.00106724\n",
      " 0.00106724 0.00106724 0.00106724 0.00106724 0.00106724 0.00106724\n",
      " 0.00106724 0.00106724 0.00106724 0.00106724 0.00106724 0.00106724\n",
      " 0.00106724 0.00106724 0.00106724 0.00106724 0.00106724 0.00106724\n",
      " 0.00106724 0.00106724 0.00106724 0.00106724 0.00106724 0.00106724\n",
      " 0.00106724 0.00106724 0.00106724 0.00106724 0.00106724 0.00106724\n",
      " 0.00106724 0.00106724 0.00106724 0.00106724 0.00106724 0.00106724\n",
      " 0.00106724 0.00106724 0.00106724 0.00106724 0.00106724 0.00106724\n",
      " 0.00106724 0.00106724 0.00106724 0.00106724 0.00106724 0.00106724\n",
      " 0.00106724 0.00106724 0.00106724 0.00106724 0.00106724 0.00106724\n",
      " 0.00106724 0.00106724 0.00106724 0.00106724 0.00106724 0.00106724\n",
      " 0.00106724 0.00106724 0.00106724 0.00106723 0.00106721 0.00106716\n",
      " 0.00106675 0.00106616 0.00106557 0.00106472 0.00106472 0.00106472\n",
      " 0.00106472 0.00106472 0.00106472 0.00106472 0.00106472 0.00106472\n",
      " 0.00106472 0.00106472 0.00106472 0.00106472 0.00106472 0.00106472\n",
      " 0.00106472 0.00106472 0.00106472 0.00106472 0.00106472 0.00106472\n",
      " 0.00106472 0.00106472 0.00106472 0.00106472 0.00106472 0.00106472\n",
      " 0.00106472 0.00106472 0.00106472 0.00106472 0.00106472 0.00106472\n",
      " 0.00106472 0.00106472 0.00106472 0.00106472 0.00106472 0.00106472\n",
      " 0.00106472 0.00106472 0.00106472 0.00106472 0.00106472 0.00106472\n",
      " 0.00106472 0.00106472 0.00106472 0.00106472 0.00106472 0.00106472\n",
      " 0.00106472 0.00106472 0.00106472 0.00106472 0.00106472 0.00106472\n",
      " 0.00106472 0.00106472 0.00106472 0.00106472 0.00106472 0.00106472\n",
      " 0.00106472 0.00106472 0.00106472 0.00106472 0.00106472 0.00106472\n",
      " 0.00106472 0.00106472 0.00106472 0.00106472 0.00106472 0.00106472\n",
      " 0.00106472 0.00106472 0.00106472 0.00106472 0.00106472 0.00106472\n",
      " 0.00106472 0.00106472 0.00106472 0.00106472 0.00106472 0.00106472\n",
      " 0.00106472 0.00106472 0.00106472 0.00106472 0.00106472 0.00106472\n",
      " 0.00106472 0.00106472 0.00106472 0.00106472 0.00106472 0.00106472\n",
      " 0.00106472 0.00106472 0.00106472 0.00106472 0.00106472 0.00106472\n",
      " 0.00106472 0.00106472 0.00106472 0.00106472 0.00106472 0.00106472\n",
      " 0.00106472 0.00106472 0.00106472 0.00106472 0.00106472 0.00106472\n",
      " 0.00106472 0.00106472 0.00106472 0.00106472 0.00106472 0.00106472\n",
      " 0.00106472 0.00106472 0.00106472 0.00106472 0.00106472 0.00106472\n",
      " 0.00106472 0.00106472 0.00106472 0.00106472 0.00106472 0.00106472\n",
      " 0.00106472 0.00106472 0.00106472 0.00106472 0.00106472 0.00106472\n",
      " 0.00106386 0.0010622  0.0010622  0.0010622  0.0010622  0.0010622\n",
      " 0.0010622  0.0010622  0.0010622  0.0010622  0.0010622  0.0010622\n",
      " 0.0010622  0.0010622  0.0010622  0.0010622  0.0010622  0.0010622\n",
      " 0.0010622  0.0010622  0.0010622  0.0010622  0.0010622  0.0010622\n",
      " 0.0010622  0.0010622 ]\n"
     ]
    }
   ],
   "source": [
    "print(pca.explained_variance_ratio_)"
   ]
  },
  {
   "cell_type": "code",
   "execution_count": 28,
   "metadata": {},
   "outputs": [
    {
     "data": {
      "image/png": "[encoded data removed]",
      "text/plain": [
       "<Figure size 432x288 with 1 Axes>"
      ]
     },
     "metadata": {
      "needs_background": "light"
     },
     "output_type": "display_data"
    }
   ],
   "source": [
    "plt.plot(np.cumsum(pca.explained_variance_ratio_))\n",
    "plt.xlabel('number of components')\n",
    "plt.ylabel('cumulative explained variance');\n",
    "plt.plot(pca.explained_variance_ratio_)\n",
    "plt.show()"
   ]
  },
  {
   "cell_type": "code",
   "execution_count": 20,
   "metadata": {},
   "outputs": [
    {
     "data": {
      "image/png": "[encoded data removed]",
      "text/plain": [
       "<Figure size 432x288 with 1 Axes>"
      ]
     },
     "metadata": {
      "needs_background": "light"
     },
     "output_type": "display_data"
    }
   ],
   "source": [
    "# pca주성분갯수\n",
    "import matplotlib.pyplot as plt\n",
    "\n",
    "plt.plot(pca.explained_variance_ratio_)\n",
    "plt.show()"
   ]
  },
  {
   "cell_type": "code",
   "execution_count": 36,
   "metadata": {},
   "outputs": [
    {
     "name": "stderr",
     "output_type": "stream",
     "text": [
      "C:\\Users\\human\\AppData\\Local\\Programs\\Python\\Python310\\lib\\site-packages\\sklearn\\utils\\validation.py:1688: FutureWarning: Feature names only support names that are all strings. Got feature names with dtypes: ['int', 'str']. An error will be raised in 1.2.\n",
      "  warnings.warn(\n",
      "C:\\Users\\human\\AppData\\Local\\Programs\\Python\\Python310\\lib\\site-packages\\sklearn\\utils\\validation.py:1688: FutureWarning: Feature names only support names that are all strings. Got feature names with dtypes: ['int', 'str']. An error will be raised in 1.2.\n",
      "  warnings.warn(\n"
     ]
    }
   ],
   "source": [
    "# pca>> n_components\n",
    "\n",
    "\n",
    "import matplotlib.pyplot as plt\n",
    "from sklearn.decomposition import PCA\n",
    "from xgboost import XGBRegressor\n",
    "train = pd.concat([tourlist_oh, weather_oh, tourlist_sc], axis=1)\n",
    "target = tourlist['검색건수']\n",
    "train_score = []\n",
    "test_score = []\n",
    "\n",
    "# for i in range(10,21):\n",
    "pca = PCA(n_components=17)\n",
    "pca.fit(train)\n",
    "train = pca.transform(train)\n",
    "train_input,test_input,train_target,test_target = train_test_split(\n",
    "train,target, test_size = 0.3)\n",
    "model = XGBRegressor(tree_method = 'hist')\n",
    "model.fit(train_input,train_target)\n",
    "train_score.append(model.score(train_input, train_target))\n",
    "test_score.append(model.score(test_input, test_target))\n"
   ]
  },
  {
   "cell_type": "code",
   "execution_count": 37,
   "metadata": {},
   "outputs": [
    {
     "name": "stdout",
     "output_type": "stream",
     "text": [
      "[0.9045561128000625]\n",
      "[0.8704546517028151]\n"
     ]
    }
   ],
   "source": [
    "print(train_score)\n",
    "print(test_score)"
   ]
  },
  {
   "cell_type": "code",
   "execution_count": 23,
   "metadata": {},
   "outputs": [
    {
     "data": {
      "image/png": "[encoded data removed]",
      "text/plain": [
       "<Figure size 432x288 with 1 Axes>"
      ]
     },
     "metadata": {
      "needs_background": "light"
     },
     "output_type": "display_data"
    }
   ],
   "source": [
    "plt.plot(range(5,16), train_score)\n",
    "plt.plot(range(5,16), test_score)\n",
    "plt.xlabel('n_component')\n",
    "plt.xlabel('score')\n",
    "plt.show()"
   ]
  },
  {
   "cell_type": "code",
   "execution_count": 14,
   "metadata": {},
   "outputs": [
    {
     "name": "stdout",
     "output_type": "stream",
     "text": [
      "nan nan\n"
     ]
    }
   ],
   "source": [
    "from lightgbm import LGBMRegressor\n",
    "model = LGBMRegressor()\n",
    "scores = cross_validate(model, train_input, train_target, return_train_score=True, n_jobs=-1)\n",
    "print(np.mean(scores['train_score']),np.mean(scores['test_score']))"
   ]
  },
  {
   "cell_type": "code",
   "execution_count": 6,
   "metadata": {},
   "outputs": [],
   "source": [
    "from sklearn.ensemble import RandomForestRegressor\n",
    "model = RandomForestRegressor(n_jobs=-1, random_state=1)\n",
    "\n"
   ]
  },
  {
   "cell_type": "code",
   "execution_count": 7,
   "metadata": {},
   "outputs": [
    {
     "name": "stderr",
     "output_type": "stream",
     "text": [
      "C:\\Users\\human\\AppData\\Local\\Programs\\Python\\Python310\\lib\\site-packages\\sklearn\\utils\\validation.py:1688: FutureWarning: Feature names only support names that are all strings. Got feature names with dtypes: ['int', 'str']. An error will be raised in 1.2.\n",
      "  warnings.warn(\n"
     ]
    }
   ],
   "source": [
    "model.fit(train_input,train_target)"
   ]
  },
  {
   "cell_type": "code",
   "execution_count": null,
   "metadata": {},
   "outputs": [],
   "source": [
    "scores = cross_validate(model, train_input, train_target, return_train_score=True, n_jobs=-1)"
   ]
  },
  {
   "cell_type": "code",
   "execution_count": null,
   "metadata": {},
   "outputs": [],
   "source": [
    "print(np.mean(scores['train_score']),np.mean(scores['test_score']))"
   ]
  },
  {
   "cell_type": "code",
   "execution_count": null,
   "metadata": {},
   "outputs": [],
   "source": []
  },
  {
   "cell_type": "code",
   "execution_count": 12,
   "metadata": {},
   "outputs": [
    {
     "name": "stdout",
     "output_type": "stream",
     "text": [
      "[0.83896296 0.01384674 0.04878284 0.05447892 0.04392854]\n"
     ]
    }
   ],
   "source": [
    "model.fit(train_input,train_target)\n",
    "print(model.feature_importances_)\n",
    "# 관광지명, 날씨, 평균온도, 최고온도, 최저온도"
   ]
  },
  {
   "cell_type": "code",
   "execution_count": 21,
   "metadata": {},
   "outputs": [
    {
     "name": "stdout",
     "output_type": "stream",
     "text": [
      "0.8725927599512489\n"
     ]
    }
   ],
   "source": [
    "# model = RandomForestRegressor(oob_score=True, n_jobs=-1)\n",
    "model.fit(train_input, train_target)\n",
    "model.predict(test_input)\n",
    "# print(model.oob_score_)"
   ]
  },
  {
   "cell_type": "code",
   "execution_count": 13,
   "metadata": {},
   "outputs": [
    {
     "data": {
      "text/plain": [
       "['random_20220504_2_정규화.pkl']"
      ]
     },
     "execution_count": 13,
     "metadata": {},
     "output_type": "execute_result"
    }
   ],
   "source": [
    "import joblib\n",
    "\n",
    "joblib.dump(model, 'random_20220504_2_정규화.pkl')"
   ]
  },
  {
   "cell_type": "code",
   "execution_count": 9,
   "metadata": {},
   "outputs": [],
   "source": []
  },
  {
   "cell_type": "code",
   "execution_count": 8,
   "metadata": {},
   "outputs": [],
   "source": [
    "train = pd.concat([tourlist[['관광지명','weather']],tourlist_sc[['avgTemp','highTemp','lowTemp']]], axis=1)\n",
    "target = tourlist_sc['검색건수']\n",
    "train_input,test_input,train_target,test_target = train_test_split(\n",
    "    train,target, test_size = 0.3)"
   ]
  },
  {
   "cell_type": "code",
   "execution_count": 72,
   "metadata": {},
   "outputs": [
    {
     "name": "stdout",
     "output_type": "stream",
     "text": [
      "0.8582485243276693 0.826327509019239\n"
     ]
    }
   ],
   "source": [
    "from sklearn.ensemble import RandomForestRegressor\n",
    "# n_estimators 트리개수 많을수록 과적합방지\n",
    "# max_depth 최대 깊이 적을수록 과적합방지\n",
    "# min_samples_split 분리노드의 최소 자료수 많을수록 과적합방지\n",
    "# n_split 많을수록 과적합방지에 유리\n",
    "\n",
    "\n",
    "model = RandomForestRegressor(n_jobs=-1, n_estimators = 100, max_depth= 15, min_impurity_decrease=0.0000001 ,random_state=1)\n",
    "# model = RandomForestRegressor(n_jobs=-1, n_estimators = 100, max_depth= 20, min_samples_split=4, random_state=1)\n",
    "scores = cross_validate(model, train_input, train_target, return_train_score=True, n_jobs=-1)\n",
    "print(np.mean(scores['train_score']),np.mean(scores['test_score']))"
   ]
  },
  {
   "cell_type": "code",
   "execution_count": 73,
   "metadata": {},
   "outputs": [
    {
     "name": "stdout",
     "output_type": "stream",
     "text": [
      "[0.91846301 0.00636518 0.02595564 0.03342244 0.01579374]\n"
     ]
    }
   ],
   "source": [
    "model.fit(train_input,train_target)\n",
    "print(model.feature_importances_)"
   ]
  },
  {
   "cell_type": "code",
   "execution_count": 37,
   "metadata": {},
   "outputs": [
    {
     "data": {
      "text/plain": [
       "['random_20220502_4 .pkl']"
      ]
     },
     "execution_count": 37,
     "metadata": {},
     "output_type": "execute_result"
    }
   ],
   "source": [
    "import joblib\n",
    "\n",
    "joblib.dump(model, 'random_20220502_4 .pkl')\n",
    "# '관광지명','weather','avgTemp','highTemp','lowTemp'\n",
    "# [0.89011888 0.00943918 0.0337521  0.04151988 0.02516996]\n",
    "\n",
    "# 0.9289117504414467 0.8658064102438724\n",
    "# [0.88384773 0.01008433 0.03513746 0.04330149 0.02762899]\n",
    "# (n_jobs=-1, n_estimators = 95, max_depth= 18, random_state=1)"
   ]
  },
  {
   "cell_type": "code",
   "execution_count": 74,
   "metadata": {},
   "outputs": [],
   "source": [
    "from sklearn.ensemble import RandomForestRegressor\n",
    "result = []\n",
    "for n_estimators in [80,85,90,95,100,105,110,120]:\n",
    "        for max_depth in [10,11,12,13,14,15,16,17,18,19,20]:\n",
    "                for min_impurity_decrease in [0.0000001,0.0000002,0.0000003,0.0000004,0.0000005,0.0000006,0.0000007,0.0000008,0.0000009,0.000001]:\n",
    "                        for min_samples_leaf in [1,3,5]:\n",
    "                                model = RandomForestRegressor(n_jobs=-1, n_estimators = n_estimators, max_depth= max_depth, min_impurity_decrease=min_impurity_decrease, random_state=1)\n",
    "                                scores = cross_validate(model, train_input, train_target, return_train_score=True, n_jobs=-1)\n",
    "                                train_score = np.mean(scores['train_score'])\n",
    "                                test_score = np.mean(scores['test_score'])\n",
    "                                model.fit(train_input,train_target)\n",
    "                                imp = model.feature_importances_\n",
    "                                result.append(\n",
    "                                        train_score,\n",
    "                                        test_score,\n",
    "                                        imp\n",
    "                                )\n",
    "\n"
   ]
  },
  {
   "cell_type": "code",
   "execution_count": null,
   "metadata": {},
   "outputs": [],
   "source": [
    "#모델링 불러오기\n",
    "import joblib\n",
    "model = joblib.load('random_20220501_2.pkl')\n",
    "\n",
    "df['']\n",
    "\n",
    "\n",
    "def sort_jongro_month(price, rentPrice, condition1, condition2, condition3):\n",
    "    df_filter = df_jongro_month.loc[(df_jongro_month['보증금']<=int(price)) & (df_jongro_month['임대료']<=int(rentPrice))] #보증금, 임대료 필터링   \n",
    "    df_filter['score'] = df_filter[condition1+'_sc']*1.4+df_filter[condition2+'_sc']*1.2+df_filter[condition3+'_sc'] #선호환경 가중치\n",
    "    df_dscending = df_filter.sort_values(by=['score'], ascending=False)[:15] \n",
    "    input_data = df_dscending[['임대면적','보증금','위도','경도','문화생활','판매시설','음식점']]\n",
    "    df_dscending['예측값'] = model_jongro_month.predict(input_data)\n",
    "    return df_dscending"
   ]
  },
  {
   "cell_type": "code",
   "execution_count": null,
   "metadata": {},
   "outputs": [],
   "source": []
  }
 ],
 "metadata": {
  "interpreter": {
   "hash": "93efdfc58be7d5cae08a57f11b31191f1b2455ab614f395b69738ec3b2997674"
  },
  "kernelspec": {
   "display_name": "Python 3.10.3 64-bit",
   "language": "python",
   "name": "python3"
  },
  "language_info": {
   "codemirror_mode": {
    "name": "ipython",
    "version": 3
   },
   "file_extension": ".py",
   "mimetype": "text/x-python",
   "name": "python",
   "nbconvert_exporter": "python",
   "pygments_lexer": "ipython3",
   "version": "3.10.3"
  },
  "orig_nbformat": 4
 },
 "nbformat": 4,
 "nbformat_minor": 2
}
